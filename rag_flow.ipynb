{
 "cells": [
  {
   "cell_type": "code",
   "execution_count": 2,
   "metadata": {},
   "outputs": [],
   "source": [
    "#installing the required libraries\n",
    "\n",
    "from PyPDF2 import PdfReader "
   ]
  },
  {
   "cell_type": "code",
   "execution_count": 60,
   "metadata": {},
   "outputs": [],
   "source": [
    "reader = PdfReader('/home/roy_aakash/Downloads/mirror2_local/sample pdfs/Guideline_Investible_Weight_Factors.pdf')\n",
    "text = ''\n",
    "for page in reader.pages:\n",
    "    text += page.extract_text()"
   ]
  },
  {
   "cell_type": "code",
   "execution_count": 61,
   "metadata": {},
   "outputs": [
    {
     "data": {
      "text/plain": [
       "' \\nInvestible Weight Factors (IWFs)  \\nIWF as the term suggests is a unit of floating stock expressed in terms of a number available for \\ntrading and which is not held by the entities having strategic interest in a company. Higher IWF \\nsuggest greater number of shares held by the investors as reported under public category within \\na shareholding pattern reported by each company.  \\n \\nThe IWF  for each company in the index are determined based on the public shareholding of the \\ncompanies as dis closed in the shareholding pattern submitted to the stock exchanges on \\nquarterly basis. The following categories are excluded from the free float factor computation  \\nwhere identifiable separately : \\n \\n1. Shareholding reported under promoter category  \\n2. Depository Re ceipts (DRs) held by promoters and promoter groups  \\n3. Associate/group companies/ cross -holdings  \\n4. Family members of promoter  \\n5. Trusts managed by promoter/ promoter group companies  \\n6. Employee Benefit Trusts/ Employee Welfare Trusts  \\n7. Directors  \\n8. Public shareholder representing (nominating) member on Board  \\n9. Public shareholder entitled to represent (nominate) member on Board  \\n10. Key Management Personnel (KMP)  \\n11. First right of refusal in favour of company/promoters in case shareholder intends to sell the \\nstake \\n12. Strategic investment by corporate bodies  \\n13. Direct/ indirect shareholding by Central/ State Government/ Government backed \\ncorporations, Governor in case of central/ state owned company (excluding insurance \\ncompanies)  \\n14. Direct/ indirect shareholding by Centr al/ State Government/ Government backed \\ncorporations, Governor in company where government is not a promoter (excluding \\ninsurance companies)  \\n15. Foreign Direct Investment  \\n16. Private Equity Investor  \\n17. Private Equity Fund  \\n18. Foreign Venture Capital Investors  \\n19. Sovereign W ealth Funds  \\n20. Shares under lock -in period reported under public category  \\n21. Investor Education and Protection Fund (IEPF)  \\n22. Persons acting in concert with promoters  \\n   \\nExample: For XYZ Ltd.  \\n \\n  Shares  % \\nTotal Shares  1,00,00,000  100.00  \\n \\n  Shares  % \\nShareholding of promoter and promoter group  19,75,000  19.75  \\nForeign Direct Investment  50,000  0.50  \\nShares held by promoters through ADR/GDRs.  2,50,000  2.50  \\nEquity held by associate/group companies (cross -holdings)  12,575  0.13  \\nEmployee Welfare Trusts  1,45,987  1.46  \\nShares under lock -in category  14,78,500  14.79  \\n \\nIWF = [1,00,00,000 – (19,75,000 + 50,000 +2,50,000 +12,575 +1,45,987 +14,78,500)] / \\n1,00,00,000. =  0.61  \\n \\n '"
      ]
     },
     "execution_count": 61,
     "metadata": {},
     "output_type": "execute_result"
    }
   ],
   "source": [
    "text"
   ]
  },
  {
   "cell_type": "code",
   "execution_count": 1,
   "metadata": {},
   "outputs": [],
   "source": [
    "def slice_text(text, range_start, range_end):\n",
    "    # Split the text into sentences\n",
    "    sentences = text.split(\". \")\n",
    "\n",
    "    # Check if range indices are valid\n",
    "    if range_start < 0 or range_end > len(sentences):\n",
    "        return \"Invalid range!\"\n",
    "\n",
    "    # Slice the sentences according to the given range\n",
    "    sliced_text = \". \".join(sentences[range_start : range_end])\n",
    "\n",
    "    # Append a dot at end if there was a dot at the end of last sentence\n",
    "    if sentences[range_end - 1][-1] == \".\":\n",
    "        sliced_text += \".\"\n",
    "\n",
    "    return sliced_text"
   ]
  },
  {
   "cell_type": "code",
   "execution_count": 62,
   "metadata": {},
   "outputs": [],
   "source": [
    "from langchain.text_splitter import RecursiveCharacterTextSplitter\n",
    "text_splitter = RecursiveCharacterTextSplitter(\n",
    "    # Set a really small chunk size, just to show.\n",
    "    chunk_size = 256,\n",
    "    chunk_overlap  = 20\n",
    ")\n",
    "\n",
    "chunks = text_splitter.create_documents([text])"
   ]
  },
  {
   "cell_type": "code",
   "execution_count": 63,
   "metadata": {},
   "outputs": [],
   "source": [
    "n_chunks = []\n",
    "for chunk in chunks:\n",
    "    n_chunks.append(list(chunk)[0][1])"
   ]
  },
  {
   "cell_type": "code",
   "execution_count": 64,
   "metadata": {},
   "outputs": [
    {
     "data": {
      "text/plain": [
       "['Investible Weight Factors (IWFs)  \\nIWF as the term suggests is a unit of floating stock expressed in terms of a number available for \\ntrading and which is not held by the entities having strategic interest in a company. Higher IWF',\n",
       " 'suggest greater number of shares held by the investors as reported under public category within \\na shareholding pattern reported by each company.  \\n \\nThe IWF  for each company in the index are determined based on the public shareholding of the',\n",
       " 'companies as dis closed in the shareholding pattern submitted to the stock exchanges on \\nquarterly basis. The following categories are excluded from the free float factor computation  \\nwhere identifiable separately :',\n",
       " '1. Shareholding reported under promoter category  \\n2. Depository Re ceipts (DRs) held by promoters and promoter groups  \\n3. Associate/group companies/ cross -holdings  \\n4. Family members of promoter',\n",
       " '5. Trusts managed by promoter/ promoter group companies  \\n6. Employee Benefit Trusts/ Employee Welfare Trusts  \\n7. Directors  \\n8. Public shareholder representing (nominating) member on Board',\n",
       " '9. Public shareholder entitled to represent (nominate) member on Board  \\n10. Key Management Personnel (KMP)  \\n11. First right of refusal in favour of company/promoters in case shareholder intends to sell the \\nstake',\n",
       " 'stake \\n12. Strategic investment by corporate bodies  \\n13. Direct/ indirect shareholding by Central/ State Government/ Government backed \\ncorporations, Governor in case of central/ state owned company (excluding insurance \\ncompanies)',\n",
       " 'companies)  \\n14. Direct/ indirect shareholding by Centr al/ State Government/ Government backed \\ncorporations, Governor in company where government is not a promoter (excluding \\ninsurance companies)  \\n15. Foreign Direct Investment',\n",
       " '16. Private Equity Investor  \\n17. Private Equity Fund  \\n18. Foreign Venture Capital Investors  \\n19. Sovereign W ealth Funds  \\n20. Shares under lock -in period reported under public category  \\n21. Investor Education and Protection Fund (IEPF)',\n",
       " '22. Persons acting in concert with promoters  \\n   \\nExample: For XYZ Ltd.  \\n \\n  Shares  % \\nTotal Shares  1,00,00,000  100.00  \\n \\n  Shares  % \\nShareholding of promoter and promoter group  19,75,000  19.75  \\nForeign Direct Investment  50,000  0.50',\n",
       " 'Shares held by promoters through ADR/GDRs.  2,50,000  2.50  \\nEquity held by associate/group companies (cross -holdings)  12,575  0.13  \\nEmployee Welfare Trusts  1,45,987  1.46  \\nShares under lock -in category  14,78,500  14.79',\n",
       " 'IWF = [1,00,00,000 – (19,75,000 + 50,000 +2,50,000 +12,575 +1,45,987 +14,78,500)] / \\n1,00,00,000. =  0.61']"
      ]
     },
     "execution_count": 64,
     "metadata": {},
     "output_type": "execute_result"
    }
   ],
   "source": [
    "n_chunks"
   ]
  },
  {
   "cell_type": "code",
   "execution_count": 8,
   "metadata": {},
   "outputs": [
    {
     "name": "stderr",
     "output_type": "stream",
     "text": [
      "/home/roy_aakash/Downloads/mirror2_local/mirror_venv/lib/python3.9/site-packages/tqdm/auto.py:21: TqdmWarning: IProgress not found. Please update jupyter and ipywidgets. See https://ipywidgets.readthedocs.io/en/stable/user_install.html\n",
      "  from .autonotebook import tqdm as notebook_tqdm\n"
     ]
    }
   ],
   "source": [
    "from sentence_transformers import SentenceTransformer"
   ]
  },
  {
   "cell_type": "code",
   "execution_count": 10,
   "metadata": {},
   "outputs": [],
   "source": [
    "embedder = SentenceTransformer('all-MiniLM-L6-v2')"
   ]
  },
  {
   "cell_type": "code",
   "execution_count": 11,
   "metadata": {},
   "outputs": [],
   "source": [
    "import chromadb"
   ]
  },
  {
   "cell_type": "code",
   "execution_count": 12,
   "metadata": {},
   "outputs": [],
   "source": [
    "client = chromadb.PersistentClient(path=\"/home/roy_aakash/Downloads/mirror2_local/mirror2/docs_vectorDB\")"
   ]
  },
  {
   "cell_type": "code",
   "execution_count": 65,
   "metadata": {},
   "outputs": [],
   "source": [
    "chunk_name = 'nse'"
   ]
  },
  {
   "cell_type": "code",
   "execution_count": 66,
   "metadata": {},
   "outputs": [],
   "source": [
    "sample1_collection = client.create_collection(chunk_name)\n",
    "sample1_collection.add(documents = n_chunks,\n",
    "    ids = list(map(lambda tup: f\"id{tup[0]}\", enumerate(chunks))))"
   ]
  },
  {
   "cell_type": "code",
   "execution_count": 67,
   "metadata": {},
   "outputs": [
    {
     "data": {
      "text/plain": [
       "[Collection(name=nse_test_p),\n",
       " Collection(name=nse_test_c),\n",
       " Collection(name=nse)]"
      ]
     },
     "execution_count": 67,
     "metadata": {},
     "output_type": "execute_result"
    }
   ],
   "source": [
    "client.list_collections()"
   ]
  },
  {
   "cell_type": "code",
   "execution_count": 59,
   "metadata": {},
   "outputs": [],
   "source": [
    "#client.delete_collection('sample1')"
   ]
  },
  {
   "cell_type": "code",
   "execution_count": 68,
   "metadata": {},
   "outputs": [],
   "source": [
    "query = 'What is the purpose of Investible Weight Factors (IWFs) in relation to floating stock?'"
   ]
  },
  {
   "cell_type": "code",
   "execution_count": 69,
   "metadata": {},
   "outputs": [],
   "source": [
    "result = sample1_collection.query(query_texts=[query], n_results=2, include=[\"documents\", 'distances',]) #the way we query in chromadb\n",
    "top_chunks = result['documents'][0]"
   ]
  },
  {
   "cell_type": "code",
   "execution_count": 70,
   "metadata": {},
   "outputs": [
    {
     "name": "stdout",
     "output_type": "stream",
     "text": [
      "Investible Weight Factors (IWFs)  \n",
      "IWF as the term suggests is a unit of floating stock expressed in terms of a number available for \n",
      "trading and which is not held by the entities having strategic interest in a company. Higher IWF\n",
      "suggest greater number of shares held by the investors as reported under public category within \n",
      "a shareholding pattern reported by each company.  \n",
      " \n",
      "The IWF  for each company in the index are determined based on the public shareholding of the\n"
     ]
    }
   ],
   "source": [
    "for c in top_chunks:\n",
    "    print(c)"
   ]
  },
  {
   "cell_type": "code",
   "execution_count": 71,
   "metadata": {},
   "outputs": [],
   "source": [
    "import local_llm\n",
    "from chunking import qa_processing"
   ]
  },
  {
   "cell_type": "code",
   "execution_count": 73,
   "metadata": {},
   "outputs": [],
   "source": [
    "answer = local_llm.get_answer(qa_processing.make_categorize_conversation_prompt(query, top_chunks))"
   ]
  },
  {
   "cell_type": "code",
   "execution_count": 75,
   "metadata": {},
   "outputs": [
    {
     "name": "stdout",
     "output_type": "stream",
     "text": [
      " Investible Weight Factors (IWFs) are a way for investors to gauge the value of floating shares in a company. They serve as a benchmark for comparing the worth of different stocks within an index, helping investors understand the relative performance and risk levels of companies within that group.\n",
      "\n",
      "The primary purpose of IWFs is to provide investors with an insight into the true value of their investments in a company's floating shares, regardless of whether they hold any actual shares themselves. This information can be very useful for investors seeking to make informed decisions about their portfolios and understand how their funds are being managed.\n",
      "\n",
      "However, it is also important to note that the exact number of floating shares available for trading depends on various factors including the company's capital structure, public shareholdings and the jurisdiction in which the company operates. This information should be considered when interpreting IWFs, as they are not a reliable measure of a company's true value.\n",
      "\n",
      "Investors should always consult professional financial advisers for guidance on their investment strategy, and should only invest money they can afford to lose. It is also important for investors to research each company individually and make informed decisions based on the information available to them.\n"
     ]
    }
   ],
   "source": [
    "print(answer)"
   ]
  },
  {
   "cell_type": "code",
   "execution_count": null,
   "metadata": {},
   "outputs": [],
   "source": []
  }
 ],
 "metadata": {
  "kernelspec": {
   "display_name": "mirror_venv",
   "language": "python",
   "name": "python3"
  },
  "language_info": {
   "codemirror_mode": {
    "name": "ipython",
    "version": 3
   },
   "file_extension": ".py",
   "mimetype": "text/x-python",
   "name": "python",
   "nbconvert_exporter": "python",
   "pygments_lexer": "ipython3",
   "version": "3.9.13"
  }
 },
 "nbformat": 4,
 "nbformat_minor": 2
}
